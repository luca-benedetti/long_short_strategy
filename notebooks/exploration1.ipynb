{
 "cells": [
  {
   "cell_type": "code",
   "execution_count": 9,
   "metadata": {},
   "outputs": [],
   "source": [
    "import numpy as np\n",
    "import pandas as pd\n",
    "import matplotlib.pyplot as plt\n",
    "import seaborn as sns\n",
    "from statsmodels.tsa.stattools import coint\n",
    "import scipy\n",
    "import yfinance as yf\n"
   ]
  },
  {
   "cell_type": "code",
   "execution_count": 10,
   "metadata": {},
   "outputs": [],
   "source": [
    "def fetch_data(ticker, start_date, end_date):\n",
    "    \"\"\"Fetch historical data for a given stock ticker.\"\"\"\n",
    "    data = yf.download(ticker, start=start_date, end=end_date)\n",
    "    return data\n",
    "\n",
    "def calculate_spread(price1, price2):\n",
    "    \"\"\"Calculate the spread between two price series.\"\"\"\n",
    "    return price1 - price2\n",
    "\n",
    "def zscore(spread):\n",
    "    \"\"\"Calculate the Z-score of the spread.\"\"\"\n",
    "    return (spread - np.mean(spread)) / np.std(spread)"
   ]
  },
  {
   "cell_type": "code",
   "execution_count": null,
   "metadata": {},
   "outputs": [
    {
     "name": "stderr",
     "output_type": "stream",
     "text": [
      "[*********************100%***********************]  2 of 2 completed\n"
     ]
    },
    {
     "name": "stdout",
     "output_type": "stream",
     "text": [
      "Price           Close                   High                    Low  \\\n",
      "Ticker             KO         SPY         KO         SPY         KO   \n",
      "Date                                                                  \n",
      "2020-01-02  47.094738  301.194946  47.471563  301.213507  46.897758   \n",
      "2020-01-03  46.837803  298.914185  47.094733  300.054558  46.323950   \n",
      "2020-01-06  46.820683  300.054504  47.026226  300.137942  46.692221   \n",
      "2020-01-07  46.460987  299.210846  46.760734  299.961814  46.375346   \n",
      "2020-01-08  46.546623  300.805511  46.794987  302.038574  46.375341   \n",
      "\n",
      "Price                        Open                Volume            \n",
      "Ticker             SPY         KO         SPY        KO       SPY  \n",
      "Date                                                               \n",
      "2020-01-02  299.025478  47.377356  299.961883  11867700  59151200  \n",
      "2020-01-03  297.699654  46.520927  297.755279  11354500  77709700  \n",
      "2020-01-06  297.013510  46.803557  297.134040  14698300  55653900  \n",
      "2020-01-07  298.756536  46.632272  299.479692   9973900  40496400  \n",
      "2020-01-08  299.155231  46.478111  299.405545  10676000  68296000  \n"
     ]
    }
   ],
   "source": [
    "if __name__ == \"__main__\":\n",
    "    # Example: Fetching data for Coca-Cola\n",
    "    df = fetch_data([\"KO\", \"SPY\"], \"2020-01-01\", \"2023-01-01\")\n",
    "    print(df.head())\n",
    "\n"
   ]
  },
  {
   "cell_type": "code",
   "execution_count": null,
   "metadata": {},
   "outputs": [],
   "source": []
  },
  {
   "cell_type": "code",
   "execution_count": null,
   "metadata": {},
   "outputs": [],
   "source": []
  }
 ],
 "metadata": {
  "kernelspec": {
   "display_name": ".venv",
   "language": "python",
   "name": "python3"
  },
  "language_info": {
   "codemirror_mode": {
    "name": "ipython",
    "version": 3
   },
   "file_extension": ".py",
   "mimetype": "text/x-python",
   "name": "python",
   "nbconvert_exporter": "python",
   "pygments_lexer": "ipython3",
   "version": "3.13.1"
  }
 },
 "nbformat": 4,
 "nbformat_minor": 2
}
